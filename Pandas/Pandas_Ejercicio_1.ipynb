{
  "nbformat": 4,
  "nbformat_minor": 0,
  "metadata": {
    "colab": {
      "provenance": []
    },
    "kernelspec": {
      "name": "python3",
      "display_name": "Python 3"
    },
    "language_info": {
      "name": "python"
    }
  },
  "cells": [
    {
      "cell_type": "markdown",
      "source": [
        "# Ejercicio 1\n",
        "\n",
        "  i. Crear la serie A serie con:\n",
        "\n",
        " -  índices: letras del abecedario ordenadas (investigar función que genere la lista)\n",
        " - valores: números enteros comenzando en 10, odenados de forma creciente y paso de 1\n",
        "  \n",
        "ii. Crear la serie B serie con:\n",
        "\n",
        "- índices: números enteros comenzando en 10, odenados de forma creciente y paso de 1\n",
        "- valores: letras del abecedario con orden inverso (z, y, x, w ...)\n",
        "\n",
        "iii. Seleccionar de cada una de las series los elementos con índice o valor entre d:i"
      ],
      "metadata": {
        "id": "FWNDzZav_TL6"
      }
    },
    {
      "cell_type": "code",
      "execution_count": 7,
      "metadata": {
        "id": "Q7AzjAEa_Mck"
      },
      "outputs": [],
      "source": [
        "import pandas as pd\n",
        "import string"
      ]
    },
    {
      "cell_type": "code",
      "source": [
        "letras = list(string.ascii_lowercase)"
      ],
      "metadata": {
        "id": "FGJFrDsyEEdo"
      },
      "execution_count": 131,
      "outputs": []
    },
    {
      "cell_type": "code",
      "source": [
        "l1 = pd.Series(range(10,len(letras)+10),index= letras)\n",
        "l1"
      ],
      "metadata": {
        "colab": {
          "base_uri": "https://localhost:8080/"
        },
        "id": "t4pWXP_GBxci",
        "outputId": "f7d5892f-fe85-4819-b932-1efa1c9eec74"
      },
      "execution_count": 47,
      "outputs": [
        {
          "output_type": "execute_result",
          "data": {
            "text/plain": [
              "a    10\n",
              "b    11\n",
              "c    12\n",
              "d    13\n",
              "e    14\n",
              "f    15\n",
              "g    16\n",
              "h    17\n",
              "i    18\n",
              "j    19\n",
              "k    20\n",
              "l    21\n",
              "m    22\n",
              "n    23\n",
              "o    24\n",
              "p    25\n",
              "q    26\n",
              "r    27\n",
              "s    28\n",
              "t    29\n",
              "u    30\n",
              "v    31\n",
              "w    32\n",
              "x    33\n",
              "y    34\n",
              "z    35\n",
              "dtype: int64"
            ]
          },
          "metadata": {},
          "execution_count": 47
        }
      ]
    },
    {
      "cell_type": "code",
      "source": [
        "l2 = pd.Series(reversed(letras),index= range(10,len(letras)+10) )\n",
        "l2"
      ],
      "metadata": {
        "colab": {
          "base_uri": "https://localhost:8080/"
        },
        "id": "dKkXZGl7Gv-h",
        "outputId": "848862a8-6270-44bb-eb20-c90086343696"
      },
      "execution_count": 51,
      "outputs": [
        {
          "output_type": "execute_result",
          "data": {
            "text/plain": [
              "10    z\n",
              "11    y\n",
              "12    x\n",
              "13    w\n",
              "14    v\n",
              "15    u\n",
              "16    t\n",
              "17    s\n",
              "18    r\n",
              "19    q\n",
              "20    p\n",
              "21    o\n",
              "22    n\n",
              "23    m\n",
              "24    l\n",
              "25    k\n",
              "26    j\n",
              "27    i\n",
              "28    h\n",
              "29    g\n",
              "30    f\n",
              "31    e\n",
              "32    d\n",
              "33    c\n",
              "34    b\n",
              "35    a\n",
              "dtype: object"
            ]
          },
          "metadata": {},
          "execution_count": 51
        }
      ]
    },
    {
      "cell_type": "code",
      "source": [
        "l2[l2.str.contains('d|e|f|g|h|i')]"
      ],
      "metadata": {
        "colab": {
          "base_uri": "https://localhost:8080/"
        },
        "id": "xgPijGFzLZt5",
        "outputId": "1b63f08a-740a-444c-a710-da03a13801a8"
      },
      "execution_count": 128,
      "outputs": [
        {
          "output_type": "execute_result",
          "data": {
            "text/plain": [
              "27    i\n",
              "28    h\n",
              "29    g\n",
              "30    f\n",
              "31    e\n",
              "32    d\n",
              "dtype: object"
            ]
          },
          "metadata": {},
          "execution_count": 128
        }
      ]
    }
  ]
}