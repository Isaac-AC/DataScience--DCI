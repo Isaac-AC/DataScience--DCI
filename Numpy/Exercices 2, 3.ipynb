{
  "nbformat": 4,
  "nbformat_minor": 0,
  "metadata": {
    "colab": {
      "provenance": []
    },
    "kernelspec": {
      "name": "python3",
      "display_name": "Python 3"
    },
    "language_info": {
      "name": "python"
    }
  },
  "cells": [
    {
      "cell_type": "markdown",
      "source": [
        "#Ejercicio 2:\n",
        "\n",
        "i. Hacer una matriz de 8 x 8 con numeros enteros consecutivos empezando en 1. Llenado por columnas.\n",
        "\n",
        "ii. reemplazar los elementos que tengan al menos un 3 por -99."
      ],
      "metadata": {
        "id": "gRcg_KP09hML"
      }
    },
    {
      "cell_type": "code",
      "source": [
        "import numpy as np\n",
        "\n",
        "A, n = np.zeros((8,8)), 0\n",
        "\n",
        "for i in range(len(A)):\n",
        "  for j in range(len(A)):\n",
        "    n = 1 + n\n",
        "    A[i,j] = n\n",
        "A = A.T\n",
        "  \n",
        "print(\"A = \\n\" , A)"
      ],
      "metadata": {
        "colab": {
          "base_uri": "https://localhost:8080/"
        },
        "id": "1WFSdeTK9lNW",
        "outputId": "86969fa7-8e4c-4416-92aa-eff5eeaa2298"
      },
      "execution_count": 318,
      "outputs": [
        {
          "output_type": "stream",
          "name": "stdout",
          "text": [
            "A = \n",
            " [[ 1.  9. 17. 25. 33. 41. 49. 57.]\n",
            " [ 2. 10. 18. 26. 34. 42. 50. 58.]\n",
            " [ 3. 11. 19. 27. 35. 43. 51. 59.]\n",
            " [ 4. 12. 20. 28. 36. 44. 52. 60.]\n",
            " [ 5. 13. 21. 29. 37. 45. 53. 61.]\n",
            " [ 6. 14. 22. 30. 38. 46. 54. 62.]\n",
            " [ 7. 15. 23. 31. 39. 47. 55. 63.]\n",
            " [ 8. 16. 24. 32. 40. 48. 56. 64.]]\n"
          ]
        }
      ]
    },
    {
      "cell_type": "code",
      "source": [
        "for i in range(len(A)):\n",
        "  for j in range(len(A)):\n",
        "    for k in range(len(str(A[i,j]))):\n",
        "      if str(A[i,j])[k] == '3':\n",
        "        A[i,j] = -99 \n",
        "\n",
        "print(A)"
      ],
      "metadata": {
        "colab": {
          "base_uri": "https://localhost:8080/"
        },
        "id": "5jQS7g3XEwxw",
        "outputId": "615068a0-acd8-46cb-e2e6-4dae7597e46c"
      },
      "execution_count": 319,
      "outputs": [
        {
          "output_type": "stream",
          "name": "stdout",
          "text": [
            "[[  1.   9.  17.  25. -99.  41.  49.  57.]\n",
            " [  2.  10.  18.  26. -99.  42.  50.  58.]\n",
            " [-99.  11.  19.  27. -99. -99.  51.  59.]\n",
            " [  4.  12.  20.  28. -99.  44.  52.  60.]\n",
            " [  5. -99.  21.  29. -99.  45. -99.  61.]\n",
            " [  6.  14.  22. -99. -99.  46.  54.  62.]\n",
            " [  7.  15. -99. -99. -99.  47.  55. -99.]\n",
            " [  8.  16.  24. -99.  40.  48.  56.  64.]]\n"
          ]
        }
      ]
    },
    {
      "cell_type": "markdown",
      "source": [
        "\n",
        "\n",
        "#Ejercicio 3:\n",
        "\n",
        "i. Reproducir la matriz B:\n",
        "\n",
        "[[0.4 0.41 0.42 0.43 0.44]\n",
        "\n",
        "[0.45 0.46 0.47 0.48 0.49]\n",
        "\n",
        "[0.5 0.51 0.52 0.53 0.54]\n",
        "\n",
        "[0.55 0.56 0.57 0.58 0.59]\n",
        "\n",
        "[0.6 0.61 0.62 0.63 0.64]\n",
        "\n",
        "[0.65 0.66 0.67 0.68 0.69]\n",
        "\n",
        "[0.7 0.71 0.72 0.73 0.74]\n",
        "\n",
        "[0.75 0.76 0.77 0.78 0.79]]\n",
        "\n",
        "ii. Unir B con el resultado del ejercicio anterior 2.ii para obtener una matriz de 8 lineas y 13 columnas.\n",
        "\n",
        "iii. Agregar una linea al final con el promedio de cada columna\n",
        "\n",
        "iv. Agregar una columna al final con el valor maximo de cada fila\n",
        "\n",
        "v. Guardar en un archivo.\n",
        "\n"
      ],
      "metadata": {
        "id": "A-0qXZoM9ApU"
      }
    },
    {
      "cell_type": "code",
      "execution_count": 320,
      "metadata": {
        "id": "hI4KQWfs1-em",
        "colab": {
          "base_uri": "https://localhost:8080/"
        },
        "outputId": "f46f9a89-1d0c-4e83-c1e1-6f62a4c05d9c"
      },
      "outputs": [
        {
          "output_type": "stream",
          "name": "stdout",
          "text": [
            "B = \n",
            " [[0.4  0.41 0.42 0.43 0.44]\n",
            " [0.45 0.46 0.47 0.48 0.49]\n",
            " [0.5  0.51 0.52 0.53 0.54]\n",
            " [0.55 0.56 0.57 0.58 0.59]\n",
            " [0.6  0.61 0.62 0.63 0.64]\n",
            " [0.65 0.66 0.67 0.68 0.69]\n",
            " [0.7  0.71 0.72 0.73 0.74]\n",
            " [0.75 0.76 0.77 0.78 0.79]]\n"
          ]
        }
      ],
      "source": [
        "B, n = np.zeros((8,5)), 0.4\n",
        "\n",
        "for i in range(B.shape[0]):\n",
        "  for j in range(B.shape[1]):\n",
        "    B[i,j] = n\n",
        "    n = .01 + n\n",
        "  \n",
        "print(\"B = \\n\" , B)"
      ]
    },
    {
      "cell_type": "code",
      "source": [
        "C = np.hstack((A, B))\n",
        "print(\"C = \\n\" , C)\n",
        "print(C.shape)"
      ],
      "metadata": {
        "colab": {
          "base_uri": "https://localhost:8080/"
        },
        "id": "SjA_EDYAN5bJ",
        "outputId": "9a0170ee-3925-4c6f-8c17-4d16cbb888c1"
      },
      "execution_count": 321,
      "outputs": [
        {
          "output_type": "stream",
          "name": "stdout",
          "text": [
            "C = \n",
            " [[  1.     9.    17.    25.   -99.    41.    49.    57.     0.4    0.41\n",
            "    0.42   0.43   0.44]\n",
            " [  2.    10.    18.    26.   -99.    42.    50.    58.     0.45   0.46\n",
            "    0.47   0.48   0.49]\n",
            " [-99.    11.    19.    27.   -99.   -99.    51.    59.     0.5    0.51\n",
            "    0.52   0.53   0.54]\n",
            " [  4.    12.    20.    28.   -99.    44.    52.    60.     0.55   0.56\n",
            "    0.57   0.58   0.59]\n",
            " [  5.   -99.    21.    29.   -99.    45.   -99.    61.     0.6    0.61\n",
            "    0.62   0.63   0.64]\n",
            " [  6.    14.    22.   -99.   -99.    46.    54.    62.     0.65   0.66\n",
            "    0.67   0.68   0.69]\n",
            " [  7.    15.   -99.   -99.   -99.    47.    55.   -99.     0.7    0.71\n",
            "    0.72   0.73   0.74]\n",
            " [  8.    16.    24.   -99.    40.    48.    56.    64.     0.75   0.76\n",
            "    0.77   0.78   0.79]]\n",
            "(8, 13)\n"
          ]
        }
      ]
    },
    {
      "cell_type": "code",
      "source": [
        "prom = np.zeros((13))\n",
        "for i in range(C.shape[1]):\n",
        "  prom[i] = np.mean(C[:,i])\n",
        "  \n",
        "print(prom)"
      ],
      "metadata": {
        "colab": {
          "base_uri": "https://localhost:8080/"
        },
        "id": "_WDKN8ypRW4-",
        "outputId": "cd72eb6b-ab44-404d-e3b8-3d02bd226733"
      },
      "execution_count": 322,
      "outputs": [
        {
          "output_type": "stream",
          "name": "stdout",
          "text": [
            "[ -8.25   -1.5     5.25  -20.25  -81.625  26.75   33.5    40.25    0.575\n",
            "   0.585   0.595   0.605   0.615]\n"
          ]
        }
      ]
    },
    {
      "cell_type": "code",
      "source": [
        "D = np.insert(C, [8], prom, axis=0)\n",
        "print(D)\n",
        "print(D.shape)"
      ],
      "metadata": {
        "colab": {
          "base_uri": "https://localhost:8080/"
        },
        "id": "3ojjfsvIUqUK",
        "outputId": "c26c8f0d-8f9d-4874-b399-379cb39b07ab"
      },
      "execution_count": 323,
      "outputs": [
        {
          "output_type": "stream",
          "name": "stdout",
          "text": [
            "[[  1.      9.     17.     25.    -99.     41.     49.     57.      0.4\n",
            "    0.41    0.42    0.43    0.44 ]\n",
            " [  2.     10.     18.     26.    -99.     42.     50.     58.      0.45\n",
            "    0.46    0.47    0.48    0.49 ]\n",
            " [-99.     11.     19.     27.    -99.    -99.     51.     59.      0.5\n",
            "    0.51    0.52    0.53    0.54 ]\n",
            " [  4.     12.     20.     28.    -99.     44.     52.     60.      0.55\n",
            "    0.56    0.57    0.58    0.59 ]\n",
            " [  5.    -99.     21.     29.    -99.     45.    -99.     61.      0.6\n",
            "    0.61    0.62    0.63    0.64 ]\n",
            " [  6.     14.     22.    -99.    -99.     46.     54.     62.      0.65\n",
            "    0.66    0.67    0.68    0.69 ]\n",
            " [  7.     15.    -99.    -99.    -99.     47.     55.    -99.      0.7\n",
            "    0.71    0.72    0.73    0.74 ]\n",
            " [  8.     16.     24.    -99.     40.     48.     56.     64.      0.75\n",
            "    0.76    0.77    0.78    0.79 ]\n",
            " [ -8.25   -1.5     5.25  -20.25  -81.625  26.75   33.5    40.25    0.575\n",
            "    0.585   0.595   0.605   0.615]]\n",
            "(9, 13)\n"
          ]
        }
      ]
    },
    {
      "cell_type": "code",
      "source": [
        "max = np.zeros((9))\n",
        "for i in range(D.shape[0]):\n",
        "  max[i] = np.max(D[i,:])\n",
        "  \n",
        "print(max)\n",
        "print(max.shape)"
      ],
      "metadata": {
        "colab": {
          "base_uri": "https://localhost:8080/"
        },
        "id": "xrYI7b4lwTDN",
        "outputId": "183eac07-b1da-4e0c-b0c3-18753049c8c8"
      },
      "execution_count": 324,
      "outputs": [
        {
          "output_type": "stream",
          "name": "stdout",
          "text": [
            "[57.   58.   59.   60.   61.   62.   55.   64.   40.25]\n",
            "(9,)\n"
          ]
        }
      ]
    },
    {
      "cell_type": "code",
      "source": [
        "R = np.insert(D.T, [13], max, axis=0).T\n",
        "print(R)\n",
        "print(R.shape)"
      ],
      "metadata": {
        "colab": {
          "base_uri": "https://localhost:8080/"
        },
        "id": "y09EOZcwwycx",
        "outputId": "0dc2227b-2b37-4862-bc02-448a2b9bef8e"
      },
      "execution_count": 325,
      "outputs": [
        {
          "output_type": "stream",
          "name": "stdout",
          "text": [
            "[[  1.      9.     17.     25.    -99.     41.     49.     57.      0.4\n",
            "    0.41    0.42    0.43    0.44   57.   ]\n",
            " [  2.     10.     18.     26.    -99.     42.     50.     58.      0.45\n",
            "    0.46    0.47    0.48    0.49   58.   ]\n",
            " [-99.     11.     19.     27.    -99.    -99.     51.     59.      0.5\n",
            "    0.51    0.52    0.53    0.54   59.   ]\n",
            " [  4.     12.     20.     28.    -99.     44.     52.     60.      0.55\n",
            "    0.56    0.57    0.58    0.59   60.   ]\n",
            " [  5.    -99.     21.     29.    -99.     45.    -99.     61.      0.6\n",
            "    0.61    0.62    0.63    0.64   61.   ]\n",
            " [  6.     14.     22.    -99.    -99.     46.     54.     62.      0.65\n",
            "    0.66    0.67    0.68    0.69   62.   ]\n",
            " [  7.     15.    -99.    -99.    -99.     47.     55.    -99.      0.7\n",
            "    0.71    0.72    0.73    0.74   55.   ]\n",
            " [  8.     16.     24.    -99.     40.     48.     56.     64.      0.75\n",
            "    0.76    0.77    0.78    0.79   64.   ]\n",
            " [ -8.25   -1.5     5.25  -20.25  -81.625  26.75   33.5    40.25    0.575\n",
            "    0.585   0.595   0.605   0.615  40.25 ]]\n",
            "(9, 14)\n"
          ]
        }
      ]
    },
    {
      "cell_type": "code",
      "source": [
        "np.savetxt('resulatdo.csv', R)"
      ],
      "metadata": {
        "id": "OhFVbhS1bjNN"
      },
      "execution_count": 326,
      "outputs": []
    },
    {
      "cell_type": "code",
      "source": [
        "import pandas as pd\n",
        "\n",
        "df = pd.DataFrame(R)\n",
        "df"
      ],
      "metadata": {
        "colab": {
          "base_uri": "https://localhost:8080/",
          "height": 331
        },
        "id": "uZT3-cdE05pv",
        "outputId": "d9d090d2-c63e-4797-807e-383150fa2372"
      },
      "execution_count": 327,
      "outputs": [
        {
          "output_type": "execute_result",
          "data": {
            "text/plain": [
              "      0     1      2      3       4      5     6      7      8      9      10  \\\n",
              "0   1.00   9.0  17.00  25.00 -99.000  41.00  49.0  57.00  0.400  0.410  0.420   \n",
              "1   2.00  10.0  18.00  26.00 -99.000  42.00  50.0  58.00  0.450  0.460  0.470   \n",
              "2 -99.00  11.0  19.00  27.00 -99.000 -99.00  51.0  59.00  0.500  0.510  0.520   \n",
              "3   4.00  12.0  20.00  28.00 -99.000  44.00  52.0  60.00  0.550  0.560  0.570   \n",
              "4   5.00 -99.0  21.00  29.00 -99.000  45.00 -99.0  61.00  0.600  0.610  0.620   \n",
              "5   6.00  14.0  22.00 -99.00 -99.000  46.00  54.0  62.00  0.650  0.660  0.670   \n",
              "6   7.00  15.0 -99.00 -99.00 -99.000  47.00  55.0 -99.00  0.700  0.710  0.720   \n",
              "7   8.00  16.0  24.00 -99.00  40.000  48.00  56.0  64.00  0.750  0.760  0.770   \n",
              "8  -8.25  -1.5   5.25 -20.25 -81.625  26.75  33.5  40.25  0.575  0.585  0.595   \n",
              "\n",
              "      11     12     13  \n",
              "0  0.430  0.440  57.00  \n",
              "1  0.480  0.490  58.00  \n",
              "2  0.530  0.540  59.00  \n",
              "3  0.580  0.590  60.00  \n",
              "4  0.630  0.640  61.00  \n",
              "5  0.680  0.690  62.00  \n",
              "6  0.730  0.740  55.00  \n",
              "7  0.780  0.790  64.00  \n",
              "8  0.605  0.615  40.25  "
            ],
            "text/html": [
              "\n",
              "  <div id=\"df-13cab8ab-241a-4947-a8b8-b8a37a39ac53\">\n",
              "    <div class=\"colab-df-container\">\n",
              "      <div>\n",
              "<style scoped>\n",
              "    .dataframe tbody tr th:only-of-type {\n",
              "        vertical-align: middle;\n",
              "    }\n",
              "\n",
              "    .dataframe tbody tr th {\n",
              "        vertical-align: top;\n",
              "    }\n",
              "\n",
              "    .dataframe thead th {\n",
              "        text-align: right;\n",
              "    }\n",
              "</style>\n",
              "<table border=\"1\" class=\"dataframe\">\n",
              "  <thead>\n",
              "    <tr style=\"text-align: right;\">\n",
              "      <th></th>\n",
              "      <th>0</th>\n",
              "      <th>1</th>\n",
              "      <th>2</th>\n",
              "      <th>3</th>\n",
              "      <th>4</th>\n",
              "      <th>5</th>\n",
              "      <th>6</th>\n",
              "      <th>7</th>\n",
              "      <th>8</th>\n",
              "      <th>9</th>\n",
              "      <th>10</th>\n",
              "      <th>11</th>\n",
              "      <th>12</th>\n",
              "      <th>13</th>\n",
              "    </tr>\n",
              "  </thead>\n",
              "  <tbody>\n",
              "    <tr>\n",
              "      <th>0</th>\n",
              "      <td>1.00</td>\n",
              "      <td>9.0</td>\n",
              "      <td>17.00</td>\n",
              "      <td>25.00</td>\n",
              "      <td>-99.000</td>\n",
              "      <td>41.00</td>\n",
              "      <td>49.0</td>\n",
              "      <td>57.00</td>\n",
              "      <td>0.400</td>\n",
              "      <td>0.410</td>\n",
              "      <td>0.420</td>\n",
              "      <td>0.430</td>\n",
              "      <td>0.440</td>\n",
              "      <td>57.00</td>\n",
              "    </tr>\n",
              "    <tr>\n",
              "      <th>1</th>\n",
              "      <td>2.00</td>\n",
              "      <td>10.0</td>\n",
              "      <td>18.00</td>\n",
              "      <td>26.00</td>\n",
              "      <td>-99.000</td>\n",
              "      <td>42.00</td>\n",
              "      <td>50.0</td>\n",
              "      <td>58.00</td>\n",
              "      <td>0.450</td>\n",
              "      <td>0.460</td>\n",
              "      <td>0.470</td>\n",
              "      <td>0.480</td>\n",
              "      <td>0.490</td>\n",
              "      <td>58.00</td>\n",
              "    </tr>\n",
              "    <tr>\n",
              "      <th>2</th>\n",
              "      <td>-99.00</td>\n",
              "      <td>11.0</td>\n",
              "      <td>19.00</td>\n",
              "      <td>27.00</td>\n",
              "      <td>-99.000</td>\n",
              "      <td>-99.00</td>\n",
              "      <td>51.0</td>\n",
              "      <td>59.00</td>\n",
              "      <td>0.500</td>\n",
              "      <td>0.510</td>\n",
              "      <td>0.520</td>\n",
              "      <td>0.530</td>\n",
              "      <td>0.540</td>\n",
              "      <td>59.00</td>\n",
              "    </tr>\n",
              "    <tr>\n",
              "      <th>3</th>\n",
              "      <td>4.00</td>\n",
              "      <td>12.0</td>\n",
              "      <td>20.00</td>\n",
              "      <td>28.00</td>\n",
              "      <td>-99.000</td>\n",
              "      <td>44.00</td>\n",
              "      <td>52.0</td>\n",
              "      <td>60.00</td>\n",
              "      <td>0.550</td>\n",
              "      <td>0.560</td>\n",
              "      <td>0.570</td>\n",
              "      <td>0.580</td>\n",
              "      <td>0.590</td>\n",
              "      <td>60.00</td>\n",
              "    </tr>\n",
              "    <tr>\n",
              "      <th>4</th>\n",
              "      <td>5.00</td>\n",
              "      <td>-99.0</td>\n",
              "      <td>21.00</td>\n",
              "      <td>29.00</td>\n",
              "      <td>-99.000</td>\n",
              "      <td>45.00</td>\n",
              "      <td>-99.0</td>\n",
              "      <td>61.00</td>\n",
              "      <td>0.600</td>\n",
              "      <td>0.610</td>\n",
              "      <td>0.620</td>\n",
              "      <td>0.630</td>\n",
              "      <td>0.640</td>\n",
              "      <td>61.00</td>\n",
              "    </tr>\n",
              "    <tr>\n",
              "      <th>5</th>\n",
              "      <td>6.00</td>\n",
              "      <td>14.0</td>\n",
              "      <td>22.00</td>\n",
              "      <td>-99.00</td>\n",
              "      <td>-99.000</td>\n",
              "      <td>46.00</td>\n",
              "      <td>54.0</td>\n",
              "      <td>62.00</td>\n",
              "      <td>0.650</td>\n",
              "      <td>0.660</td>\n",
              "      <td>0.670</td>\n",
              "      <td>0.680</td>\n",
              "      <td>0.690</td>\n",
              "      <td>62.00</td>\n",
              "    </tr>\n",
              "    <tr>\n",
              "      <th>6</th>\n",
              "      <td>7.00</td>\n",
              "      <td>15.0</td>\n",
              "      <td>-99.00</td>\n",
              "      <td>-99.00</td>\n",
              "      <td>-99.000</td>\n",
              "      <td>47.00</td>\n",
              "      <td>55.0</td>\n",
              "      <td>-99.00</td>\n",
              "      <td>0.700</td>\n",
              "      <td>0.710</td>\n",
              "      <td>0.720</td>\n",
              "      <td>0.730</td>\n",
              "      <td>0.740</td>\n",
              "      <td>55.00</td>\n",
              "    </tr>\n",
              "    <tr>\n",
              "      <th>7</th>\n",
              "      <td>8.00</td>\n",
              "      <td>16.0</td>\n",
              "      <td>24.00</td>\n",
              "      <td>-99.00</td>\n",
              "      <td>40.000</td>\n",
              "      <td>48.00</td>\n",
              "      <td>56.0</td>\n",
              "      <td>64.00</td>\n",
              "      <td>0.750</td>\n",
              "      <td>0.760</td>\n",
              "      <td>0.770</td>\n",
              "      <td>0.780</td>\n",
              "      <td>0.790</td>\n",
              "      <td>64.00</td>\n",
              "    </tr>\n",
              "    <tr>\n",
              "      <th>8</th>\n",
              "      <td>-8.25</td>\n",
              "      <td>-1.5</td>\n",
              "      <td>5.25</td>\n",
              "      <td>-20.25</td>\n",
              "      <td>-81.625</td>\n",
              "      <td>26.75</td>\n",
              "      <td>33.5</td>\n",
              "      <td>40.25</td>\n",
              "      <td>0.575</td>\n",
              "      <td>0.585</td>\n",
              "      <td>0.595</td>\n",
              "      <td>0.605</td>\n",
              "      <td>0.615</td>\n",
              "      <td>40.25</td>\n",
              "    </tr>\n",
              "  </tbody>\n",
              "</table>\n",
              "</div>\n",
              "      <button class=\"colab-df-convert\" onclick=\"convertToInteractive('df-13cab8ab-241a-4947-a8b8-b8a37a39ac53')\"\n",
              "              title=\"Convert this dataframe to an interactive table.\"\n",
              "              style=\"display:none;\">\n",
              "        \n",
              "  <svg xmlns=\"http://www.w3.org/2000/svg\" height=\"24px\"viewBox=\"0 0 24 24\"\n",
              "       width=\"24px\">\n",
              "    <path d=\"M0 0h24v24H0V0z\" fill=\"none\"/>\n",
              "    <path d=\"M18.56 5.44l.94 2.06.94-2.06 2.06-.94-2.06-.94-.94-2.06-.94 2.06-2.06.94zm-11 1L8.5 8.5l.94-2.06 2.06-.94-2.06-.94L8.5 2.5l-.94 2.06-2.06.94zm10 10l.94 2.06.94-2.06 2.06-.94-2.06-.94-.94-2.06-.94 2.06-2.06.94z\"/><path d=\"M17.41 7.96l-1.37-1.37c-.4-.4-.92-.59-1.43-.59-.52 0-1.04.2-1.43.59L10.3 9.45l-7.72 7.72c-.78.78-.78 2.05 0 2.83L4 21.41c.39.39.9.59 1.41.59.51 0 1.02-.2 1.41-.59l7.78-7.78 2.81-2.81c.8-.78.8-2.07 0-2.86zM5.41 20L4 18.59l7.72-7.72 1.47 1.35L5.41 20z\"/>\n",
              "  </svg>\n",
              "      </button>\n",
              "      \n",
              "  <style>\n",
              "    .colab-df-container {\n",
              "      display:flex;\n",
              "      flex-wrap:wrap;\n",
              "      gap: 12px;\n",
              "    }\n",
              "\n",
              "    .colab-df-convert {\n",
              "      background-color: #E8F0FE;\n",
              "      border: none;\n",
              "      border-radius: 50%;\n",
              "      cursor: pointer;\n",
              "      display: none;\n",
              "      fill: #1967D2;\n",
              "      height: 32px;\n",
              "      padding: 0 0 0 0;\n",
              "      width: 32px;\n",
              "    }\n",
              "\n",
              "    .colab-df-convert:hover {\n",
              "      background-color: #E2EBFA;\n",
              "      box-shadow: 0px 1px 2px rgba(60, 64, 67, 0.3), 0px 1px 3px 1px rgba(60, 64, 67, 0.15);\n",
              "      fill: #174EA6;\n",
              "    }\n",
              "\n",
              "    [theme=dark] .colab-df-convert {\n",
              "      background-color: #3B4455;\n",
              "      fill: #D2E3FC;\n",
              "    }\n",
              "\n",
              "    [theme=dark] .colab-df-convert:hover {\n",
              "      background-color: #434B5C;\n",
              "      box-shadow: 0px 1px 3px 1px rgba(0, 0, 0, 0.15);\n",
              "      filter: drop-shadow(0px 1px 2px rgba(0, 0, 0, 0.3));\n",
              "      fill: #FFFFFF;\n",
              "    }\n",
              "  </style>\n",
              "\n",
              "      <script>\n",
              "        const buttonEl =\n",
              "          document.querySelector('#df-13cab8ab-241a-4947-a8b8-b8a37a39ac53 button.colab-df-convert');\n",
              "        buttonEl.style.display =\n",
              "          google.colab.kernel.accessAllowed ? 'block' : 'none';\n",
              "\n",
              "        async function convertToInteractive(key) {\n",
              "          const element = document.querySelector('#df-13cab8ab-241a-4947-a8b8-b8a37a39ac53');\n",
              "          const dataTable =\n",
              "            await google.colab.kernel.invokeFunction('convertToInteractive',\n",
              "                                                     [key], {});\n",
              "          if (!dataTable) return;\n",
              "\n",
              "          const docLinkHtml = 'Like what you see? Visit the ' +\n",
              "            '<a target=\"_blank\" href=https://colab.research.google.com/notebooks/data_table.ipynb>data table notebook</a>'\n",
              "            + ' to learn more about interactive tables.';\n",
              "          element.innerHTML = '';\n",
              "          dataTable['output_type'] = 'display_data';\n",
              "          await google.colab.output.renderOutput(dataTable, element);\n",
              "          const docLink = document.createElement('div');\n",
              "          docLink.innerHTML = docLinkHtml;\n",
              "          element.appendChild(docLink);\n",
              "        }\n",
              "      </script>\n",
              "    </div>\n",
              "  </div>\n",
              "  "
            ]
          },
          "metadata": {},
          "execution_count": 327
        }
      ]
    }
  ]
}